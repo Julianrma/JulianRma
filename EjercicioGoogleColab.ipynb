{
  "nbformat": 4,
  "nbformat_minor": 0,
  "metadata": {
    "colab": {
      "provenance": [],
      "authorship_tag": "ABX9TyNJFMThTSCwWLo7t3AEacH3",
      "include_colab_link": true
    },
    "kernelspec": {
      "name": "python3",
      "display_name": "Python 3"
    },
    "language_info": {
      "name": "python"
    }
  },
  "cells": [
    {
      "cell_type": "markdown",
      "metadata": {
        "id": "view-in-github",
        "colab_type": "text"
      },
      "source": [
        "<a href=\"https://colab.research.google.com/github/Julianrma/Julianrma/blob/main/EjercicioGoogleColab.ipynb\" target=\"_parent\"><img src=\"https://colab.research.google.com/assets/colab-badge.svg\" alt=\"Open In Colab\"/></a>"
      ]
    },
    {
      "cell_type": "markdown",
      "source": [
        "Regla de 3\n",
        "Este script es un programa el cual nos ayuda a sacar la regla de 3\n",
        "Esta nos pide tres valores los cuales seran operados para realizar la regla de 3"
      ],
      "metadata": {
        "id": "c2_1t5Jl5Y7G"
      }
    },
    {
      "cell_type": "code",
      "source": [
        "# Función para calcular la regla de tres\n",
        "def Reglade3 (a, b, c):\n",
        "    resultado = (b * c) / a\n",
        "    return resultado\n",
        "\n",
        "# Pide al Usuario los Valores\n",
        "valor_a = float(input(\"Introduce el primer valor (a): \"))\n",
        "valor_b = float(input(\"Introduce el segundo valor (b): \"))\n",
        "valor_c = float(input(\"Introduce el tercer valor (c): \"))\n",
        "\n",
        "# Calcula el Resultado\n",
        "resultado = Reglade3 (valor_a, valor_b, valor_c)\n",
        "\n",
        "# Muestra el Resultado\n",
        "print(f\"El resultado es: {resultado}\")\n"
      ],
      "metadata": {
        "id": "ZDPahIWq5HcO"
      },
      "execution_count": null,
      "outputs": []
    },
    {
      "cell_type": "markdown",
      "source": [
        "Calculadora Basica\n",
        "Calculadora echa a base de funciones la cual tiene opciones.\n",
        "Las opciones son: Sumar, Restar, Multiplicar y Dividir\n",
        "Los parametros que recibe son 3 lo primero seria es la opcion de la operacion que deseas realizar y segundo los numeros los cuales deberias hacer la operacion"
      ],
      "metadata": {
        "id": "96QkqBO-4Cof"
      }
    },
    {
      "cell_type": "code",
      "source": [
        "# Funciones de la Calculadora\n",
        "def suma(a, b):\n",
        "    return a + b\n",
        "\n",
        "def resta(a, b):\n",
        "    return a - b\n",
        "\n",
        "def multi(a, b):\n",
        "    return a * b\n",
        "\n",
        "def div(a, b):\n",
        "    if b != 0:\n",
        "        return a / b\n",
        "    else:\n",
        "        return \"No existe división por 0\"\n",
        "\n",
        "# Menú de Opciones\n",
        "def menu():\n",
        "    print(\"Calculadora:\")\n",
        "    print(\"1. Sumar\")\n",
        "    print(\"2. Restar\")\n",
        "    print(\"3. Multiplicar\")\n",
        "    print(\"4. Dividir\")\n",
        "    print(\"5. Salir\")\n",
        "\n",
        "# Función Principal Calculadora\n",
        "def calculadora():\n",
        "    while True:\n",
        "        menu()\n",
        "        opcion = input(\"Elige una opción (1-5): \")\n",
        "\n",
        "        if opcion == \"1\":\n",
        "            x = float(input(\"Primer número: \"))\n",
        "            y = float(input(\"Segundo número: \"))\n",
        "            print(\"Resultado:\", suma(x, y))\n",
        "\n",
        "        elif opcion == \"2\":\n",
        "            x = float(input(\"Primer número: \"))\n",
        "            y = float(input(\"Segundo número: \"))\n",
        "            print(\"Resultado:\", resta(x, y))\n",
        "\n",
        "        elif opcion == \"3\":\n",
        "            x = float(input(\"Primer número: \"))\n",
        "            y = float(input(\"Segundo número: \"))\n",
        "            print(\"Resultado:\", multi(x, y))\n",
        "\n",
        "        elif opcion == \"4\":\n",
        "            x = float(input(\"Primer número: \"))\n",
        "            y = float(input(\"Segundo número: \"))\n",
        "            print(\"Resultado:\", div(x, y))\n",
        "\n",
        "        elif opcion == \"5\":\n",
        "            print(\"Saliendo...\")\n",
        "            break\n",
        "\n",
        "        else:\n",
        "            print(\"Opción inválida. Intenta de nuevo.\")\n",
        "\n",
        "# Ejecutamos la Calculadora\n",
        "calculadora()\n"
      ],
      "metadata": {
        "colab": {
          "base_uri": "https://localhost:8080/"
        },
        "id": "pL6Gf6oy3XIC",
        "outputId": "7949dcb6-410d-46a1-f27b-56042bd2f3e5"
      },
      "execution_count": null,
      "outputs": [
        {
          "output_type": "stream",
          "name": "stdout",
          "text": [
            "Calculadora:\n",
            "1. Sumar\n",
            "2. Restar\n",
            "3. Multiplicar\n",
            "4. Dividir\n",
            "5. Salir\n",
            "Elige una opción (1-5): 1\n",
            "Primer número: 2\n",
            "Segundo número: 2\n",
            "Resultado: 4.0\n",
            "Calculadora:\n",
            "1. Sumar\n",
            "2. Restar\n",
            "3. Multiplicar\n",
            "4. Dividir\n",
            "5. Salir\n"
          ]
        }
      ]
    }
  ]
}